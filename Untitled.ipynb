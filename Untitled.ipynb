{
 "cells": [
  {
   "cell_type": "markdown",
   "metadata": {},
   "source": [
    "## Bewertungskriterien\n",
    "1. Fachliche Bewertung (50%): Korrektheit, Lösungsqualität und Eleganz sowie Klarheit und Umfang der Betrachtung, Umsetzung von Data Science wie in der Vorlesung gelehrt in einem Code-Prototyp, korrekte Verwendung von wichtigen Funktionen / Bibliotheken, Güte der Endlösung, Nutzung der erworbenen Kenntnisse aus der Vorlesung, Vollständigkeit der Lösung in Bezug auf die Aufgabenstellung\n",
    "2. Dokumentation (50%): Dokumentation des Vorgehens der Datenauswertung im Sinne von Data Science, Codekommentare wie in der Informatik üblich wo notwendig, Qualität der Diagramme, Videopräsentation"
   ]
  },
  {
   "cell_type": "markdown",
   "metadata": {},
   "source": [
    "# Aufgabe 1: Business Understanding (3P)"
   ]
  },
  {
   "cell_type": "markdown",
   "metadata": {},
   "source": [
    "Formulieren Sie ein Ziel oder mehrere Ziele nach dem CRISP-DM Prozess, die für Investor*innen sinnvoll sind. Diese Personen investieren Geld mit dem Ziel, dieses zu vermehren, z. B. durch Kauf/Verkauf, Renovierung, Umbau. Beginnen Sie mit der Idee „Wir brauchen mehr Verständnis und eine Vorhersage des Verkaufspreises (Preis)!“, welche auf jeden Fall zu bearbeiten ist."
   ]
  },
  {
   "cell_type": "markdown",
   "metadata": {},
   "source": [
    "### Ziele auf Geschäftsebene\n",
    "\n",
    "z.B. Häuser billig kaufen, renovieren und teurer weiterverkaufen"
   ]
  },
  {
   "cell_type": "markdown",
   "metadata": {},
   "source": [
    "### Zu beantwortende Fragen\n",
    "\n",
    "Welche Häuser liegen preislich unter dem Durchschnitt (für das was sie bieten)?"
   ]
  },
  {
   "cell_type": "markdown",
   "metadata": {},
   "source": [
    "# Aufgabe 2: Data Exploration und Analyse (10P)"
   ]
  },
  {
   "cell_type": "markdown",
   "metadata": {},
   "source": [
    "Untersuchen Sie den Datensatz. Analysieren Sie die gegebenen Informationen und suchen Sie Anomalien. Behalten Sie dabei die Zielstellung aus Teil 1 im Auge. Bewerten Sie Schlussfolgerungen daraufhin, wie viel Information Sie haben, um diese zu stützen. Beschreiben Sie die Ergebnisse in ganzen Sätzen auf Deutsch. Nutzen Sie Diagramme wo sinnvoll – achten Sie darauf, diese gut zu formatieren, zu beschriften und korrekt einzusetzen. Schreiben Sie die allerwichtigsten Erkenntnisse für die in Teil 1 definierten Ziele als Summary auf (3 bis 5 Erkenntnisse)."
   ]
  },
  {
   "cell_type": "code",
   "execution_count": null,
   "metadata": {},
   "outputs": [],
   "source": []
  },
  {
   "cell_type": "markdown",
   "metadata": {},
   "source": [
    "# Aufgabe 3: Data Preparation und Modeling (6P)"
   ]
  },
  {
   "cell_type": "markdown",
   "metadata": {},
   "source": [
    "Bereinigen Sie die Daten, falls notwendig. Führen Sie Feature Engineering durch, wenn notwendig. Führen Sie mit geeigneten Verfahren eine Vorhersage des Preises (Preis) durch. Eine davon soll eine erklärbare, verständliche und interpretierbare lineare Regression sein. Erklären Sie diese im Detail in Bezug auf die Ziele aus Aufgabe 1. Wählen Sie mehrere geeignete Regressionsverfahren. Vergleichen Sie die angewendete Verfahren grafisch. Begründen Sie Ihre Wahl in Bezug auf die Ziele."
   ]
  },
  {
   "cell_type": "code",
   "execution_count": null,
   "metadata": {},
   "outputs": [],
   "source": []
  },
  {
   "cell_type": "markdown",
   "metadata": {},
   "source": [
    "# Aufgabe 4: Evaluation (3P)"
   ]
  },
  {
   "cell_type": "markdown",
   "metadata": {},
   "source": [
    "Evaluieren Sie ihr finales Modell. Quantifizieren Sie bei der Evaluation die Konfidenz ab. Achten Sie auf die Sinnhaftigkeit der Bewertung im Bezug zu den Geschäftszielen aus Aufgabe 1. Stellen Sie 3 bis 5 wichtige Erkenntnisse in einem Summary heraus. Beschreiben Sie diese in ganzen Sätzen auf Deutsch."
   ]
  },
  {
   "cell_type": "code",
   "execution_count": null,
   "metadata": {},
   "outputs": [],
   "source": []
  },
  {
   "cell_type": "markdown",
   "metadata": {},
   "source": [
    "# Aufgabe 5: Deployment (3+3P)"
   ]
  },
  {
   "cell_type": "markdown",
   "metadata": {},
   "source": [
    "Erstellen Sie eine Anleitung / Handreichung / Vorgehen für InvestorInnen basierend auf den Erkenntnissen von Aufgabe 1 bis 4. Sie können dies per Hand, mit Software, als Formel, als Folie, oder anders umsetzen. Wählen Sie eine geeignete Präsentationsform für Ihre Zielgruppe. Stellen Sie Ihre gesamten in Punkt 1 – 4 erarbeiteten Ergebnisse in 5 bis 7 Folien Ihren AuftraggeberInnen als Videopräsentation vor."
   ]
  },
  {
   "cell_type": "code",
   "execution_count": null,
   "metadata": {},
   "outputs": [],
   "source": []
  },
  {
   "cell_type": "markdown",
   "metadata": {},
   "source": [
    "# Technische Anforderung (2P)"
   ]
  },
  {
   "cell_type": "markdown",
   "metadata": {},
   "source": [
    "Stellen Sie die Ablauffähigkeit sicher. Ändern Sie nichts an der csv-Datei, die vorgegeben ist. Ermöglichen Sie es, eine zusätzliche csv-Datei in dem gegebenen Format einzulesen, mit der dann das finale Modell durchlaufen und für die Hauspreisvorhersage folgende fünf Werte berechnet werden:\n",
    "R2, MSE, RMSE, MAPE, MAX. Sie können dies testen, indem Sie von der vorgegebenen csv-Datei z. B. die ersten 3 oder die letzten 3 Zeilen einlesen und prüfen, ob das Programm sich erwartungskonform verhält. Dokumentieren Sie die Code-Stelle und Verwendung."
   ]
  }
 ],
 "metadata": {
  "kernelspec": {
   "display_name": "Python 3",
   "language": "python",
   "name": "python3"
  },
  "language_info": {
   "codemirror_mode": {
    "name": "ipython",
    "version": 3
   },
   "file_extension": ".py",
   "mimetype": "text/x-python",
   "name": "python",
   "nbconvert_exporter": "python",
   "pygments_lexer": "ipython3",
   "version": "3.7.4"
  }
 },
 "nbformat": 4,
 "nbformat_minor": 4
}
